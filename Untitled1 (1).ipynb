{
  "nbformat": 4,
  "nbformat_minor": 0,
  "metadata": {
    "colab": {
      "provenance": []
    },
    "kernelspec": {
      "name": "python3",
      "display_name": "Python 3"
    },
    "language_info": {
      "name": "python"
    }
  },
  "cells": [
    {
      "cell_type": "code",
      "execution_count": null,
      "metadata": {
        "id": "FUun07OmsbYu",
        "colab": {
          "base_uri": "https://localhost:8080/"
        },
        "outputId": "ab43d2be-349f-4e04-eb60-07c7b8a70b7d"
      },
      "outputs": [
        {
          "output_type": "stream",
          "name": "stdout",
          "text": [
            "Original string: Hello, World!\n",
            "Reversed string: !dlroW ,olleH\n"
          ]
        }
      ],
      "source": [
        "#1.write a code to reserve  a string\n",
        "def reverse_string(s):\n",
        "    reversed_string = \"\"\n",
        "    for char in s:\n",
        "        reversed_string = char + reversed_string\n",
        "    return reversed_string\n",
        "\n",
        "# Example usage\n",
        "input_string = \"Hello, World!\"\n",
        "reversed_string = reverse_string(input_string)\n",
        "print(\"Original string:\", input_string)\n",
        "print(\"Reversed string:\", reversed_string)\n",
        "\n"
      ]
    },
    {
      "cell_type": "markdown",
      "source": [],
      "metadata": {
        "id": "72gHx7ljskco"
      }
    },
    {
      "cell_type": "code",
      "source": [
        "#2.write a code to count the numbers of vowels in a string\n",
        "def count_vowels(s):\n",
        "    vowels = \"aeiouAEIOU\"\n",
        "    count = 0\n",
        "    for char in s:\n",
        "        if char in vowels:\n",
        "            count += 1\n",
        "    return count\n",
        "\n",
        "# Example usage\n",
        "input_string = \"Hello, World!\"\n",
        "vowel_count = count_vowels(input_string)\n",
        "print(\"Original string:\", input_string)\n",
        "print(\"Number of vowels:\", vowel_count)\n"
      ],
      "metadata": {
        "id": "2048rI7isjbU",
        "colab": {
          "base_uri": "https://localhost:8080/"
        },
        "collapsed": true,
        "outputId": "bedff9c8-20dc-46cb-9251-0c7aaa7cb6bb"
      },
      "execution_count": null,
      "outputs": [
        {
          "output_type": "stream",
          "name": "stdout",
          "text": [
            "Original string: Hello, World!\n",
            "Number of vowels: 3\n"
          ]
        }
      ]
    },
    {
      "cell_type": "code",
      "source": [
        "#3.write a code to Check if a Given String is a Palindrome\n",
        "def is_palindrome(s):\n",
        "    s = s.lower().replace(\" \", \"\")  # Case insensitive and ignoring spaces\n",
        "    return s == s[::-1]\n",
        "\n",
        "# Example usage\n",
        "input_string = \"A man a plan a canal Panama\"\n",
        "print(is_palindrome(input_string))\n"
      ],
      "metadata": {
        "colab": {
          "base_uri": "https://localhost:8080/"
        },
        "id": "cU3YaZHuosjy",
        "outputId": "577c6d3e-4b64-49e1-96d2-5b1698b8757e"
      },
      "execution_count": null,
      "outputs": [
        {
          "output_type": "stream",
          "name": "stdout",
          "text": [
            "True\n"
          ]
        }
      ]
    },
    {
      "cell_type": "code",
      "source": [
        "#4 writ a code Check if Two Given Strings are Anagrams\n",
        "def are_anagrams(str1, str2):\n",
        "    return sorted(str1) == sorted(str2)\n",
        "\n",
        "# Example usage\n",
        "str1 = \"listen\"\n",
        "str2 = \"silent\"\n",
        "print(are_anagrams(str1, str2))\n"
      ],
      "metadata": {
        "colab": {
          "base_uri": "https://localhost:8080/"
        },
        "id": "3hmi99pupc2x",
        "outputId": "ec3fdaeb-be67-48de-ec89-7fdd156a15e8"
      },
      "execution_count": null,
      "outputs": [
        {
          "output_type": "stream",
          "name": "stdout",
          "text": [
            "True\n"
          ]
        }
      ]
    },
    {
      "cell_type": "code",
      "source": [
        "#5. Find All Occurrences of a Given Substring Within Another String\n",
        "def find_substring_occurrences(s, sub):\n",
        "    occurrences = []\n",
        "    start = 0\n",
        "    while start < len(s):\n",
        "        start = s.find(sub, start)\n",
        "        if start == -1:\n",
        "            break\n",
        "        occurrences.append(start)\n",
        "        start += len(sub)\n",
        "    return occurrences\n",
        "\n",
        "# Example usage\n",
        "s = \"This is a cat. This is only a cat.\"\n",
        "sub = \"cat\"\n",
        "print(find_substring_occurrences(s, sub))\n"
      ],
      "metadata": {
        "colab": {
          "base_uri": "https://localhost:8080/"
        },
        "id": "DTchkByypm5c",
        "outputId": "7f6d6768-84fc-4856-e1d7-544f8aa9a60f"
      },
      "execution_count": null,
      "outputs": [
        {
          "output_type": "stream",
          "name": "stdout",
          "text": [
            "[10, 30]\n"
          ]
        }
      ]
    },
    {
      "cell_type": "code",
      "source": [
        "#7.Perform Basic String Compression Using the Counts of Repeated Characters\n",
        "def compress_string(s):\n",
        "    compressed = []\n",
        "    count = 1\n",
        "    for i in range(1, len(s)):\n",
        "        if s[i] == s[i - 1]:\n",
        "            count += 1\n",
        "        else:\n",
        "            compressed.append(s[i - 1] + str(count))\n",
        "            count = 1\n",
        "    compressed.append(s[-1] + str(count))\n",
        "    return ''.join(compressed)\n",
        "\n",
        "# Example usage\n",
        "input_string = \"AASDSBRSJB\"\n",
        "print(compress_string(input_string))\n"
      ],
      "metadata": {
        "colab": {
          "base_uri": "https://localhost:8080/"
        },
        "id": "h1qBlauPpxwc",
        "outputId": "7d5b7e59-8d0e-431a-efe9-102ae31ad8bf"
      },
      "execution_count": null,
      "outputs": [
        {
          "output_type": "stream",
          "name": "stdout",
          "text": [
            "A2S1D1S1B1R1S1J1B1\n"
          ]
        }
      ]
    },
    {
      "cell_type": "code",
      "source": [
        "#7. Determine if a String has All Unique Characters\n",
        "def has_unique_characters(s):\n",
        "    return len(s) == len(set(s))\n",
        "\n",
        "# Example usage\n",
        "input_string = \"abcdefg\"\n",
        "print(has_unique_characters(input_string))\n"
      ],
      "metadata": {
        "colab": {
          "base_uri": "https://localhost:8080/"
        },
        "id": "C7chjFPUqKWU",
        "outputId": "e8b64172-2f76-4a4f-e059-b3016b6b4e5f"
      },
      "execution_count": null,
      "outputs": [
        {
          "output_type": "stream",
          "name": "stdout",
          "text": [
            "True\n"
          ]
        }
      ]
    },
    {
      "cell_type": "code",
      "source": [
        "#Convert a Given String to Uppercase or Lowercase\n",
        "def convert_case(s, to_upper=True):\n",
        "    return s.upper() if to_upper else s.lower()\n",
        "\n",
        "# Example usage\n",
        "input_string = \"Hello, World!\"\n",
        "print(convert_case(input_string, to_upper=True))\n",
        "print(convert_case(input_string, to_upper=False))\n",
        "\n"
      ],
      "metadata": {
        "colab": {
          "base_uri": "https://localhost:8080/"
        },
        "id": "52SRP0A5qQZU",
        "outputId": "d3bb790a-3998-4292-ecd9-ff7e7de9e8c4"
      },
      "execution_count": null,
      "outputs": [
        {
          "output_type": "stream",
          "name": "stdout",
          "text": [
            "HELLO, WORLD!\n",
            "hello, world!\n"
          ]
        }
      ]
    },
    {
      "cell_type": "code",
      "source": [
        "#9. Count the Number of Words in a String\n",
        "def count_words(s):\n",
        "    return len(s.split())\n",
        "\n",
        "# Example usage\n",
        "input_string = \"GOD IS GOOD\"\n",
        "print(count_words(input_string))\n"
      ],
      "metadata": {
        "colab": {
          "base_uri": "https://localhost:8080/"
        },
        "id": "sJqVVh_YqZVb",
        "outputId": "6889afa8-1192-42f3-fcf9-32b82d4f0395"
      },
      "execution_count": null,
      "outputs": [
        {
          "output_type": "stream",
          "name": "stdout",
          "text": [
            "3\n"
          ]
        }
      ]
    },
    {
      "cell_type": "code",
      "source": [
        "#10. Concatenate Two Strings Without Using the Operator\n",
        "def concatenate_strings(s1, s2):\n",
        "    return ''.join([s1, s2])\n",
        "\n",
        "# Example usage\n",
        "str1 = \"Hello, \"\n",
        "str2 = \"World!\"\n",
        "print(concatenate_strings(str1, str2))\n"
      ],
      "metadata": {
        "colab": {
          "base_uri": "https://localhost:8080/"
        },
        "id": "ekjinjSBrEY5",
        "outputId": "d0eda8cf-1152-43e2-e397-bf9ef3d25657"
      },
      "execution_count": null,
      "outputs": [
        {
          "output_type": "stream",
          "name": "stdout",
          "text": [
            "Hello, World!\n"
          ]
        }
      ]
    },
    {
      "cell_type": "code",
      "source": [
        "#11. Remove All Occurrences of a Specific Element From a List\n",
        "def remove_element(lst, element):\n",
        "    return [x for x in lst if x != element]\n",
        "\n",
        "# Example usage\n",
        "lst = [1, 2, 3, 4, 3, 2, 1]\n",
        "element_to_remove = 2\n",
        "print(remove_element(lst, element_to_remove))\n"
      ],
      "metadata": {
        "colab": {
          "base_uri": "https://localhost:8080/"
        },
        "id": "vAwRiogqrQiH",
        "outputId": "a0a2e144-a0a7-4b3b-a8d6-3d720ece2a25"
      },
      "execution_count": null,
      "outputs": [
        {
          "output_type": "stream",
          "name": "stdout",
          "text": [
            "[1, 3, 4, 3, 1]\n"
          ]
        }
      ]
    },
    {
      "cell_type": "code",
      "source": [
        "#12. Find the Second Largest Number in a Given List of Integers\n",
        "def second_largest(lst):\n",
        "    unique_sorted = sorted(set(lst), reverse=True)\n",
        "    return unique_sorted[1] if len(unique_sorted) > 1 else None\n",
        "\n",
        "# Example usage\n",
        "lst = [10, 20, 20, 4, 45, 99, 99]\n",
        "print(second_largest(lst))\n"
      ],
      "metadata": {
        "colab": {
          "base_uri": "https://localhost:8080/"
        },
        "id": "U6RaphunrYWr",
        "outputId": "79b2f0f4-4729-4489-e5b8-330ea579fe49"
      },
      "execution_count": null,
      "outputs": [
        {
          "output_type": "stream",
          "name": "stdout",
          "text": [
            "45\n"
          ]
        }
      ]
    },
    {
      "cell_type": "code",
      "source": [
        "#13. Count the Occurrences of Each Element in a List and Return a Dictionary\n",
        "def count_occurrences(lst):\n",
        "    occurrence_dict = {}\n",
        "    for item in lst:\n",
        "        occurrence_dict[item] = occurrence_dict.get(item, 0) + 1\n",
        "    return occurrence_dict\n",
        "\n",
        "# Example usage\n",
        "lst = [1, 2, 3, 1, 2, 1, 4, 5]\n",
        "print(count_occurrences(lst))\n"
      ],
      "metadata": {
        "colab": {
          "base_uri": "https://localhost:8080/"
        },
        "id": "04xOPRJHrfRX",
        "outputId": "768f6307-380e-4fdc-9ca9-c98c18ce0c0d"
      },
      "execution_count": null,
      "outputs": [
        {
          "output_type": "stream",
          "name": "stdout",
          "text": [
            "{1: 3, 2: 2, 3: 1, 4: 1, 5: 1}\n"
          ]
        }
      ]
    },
    {
      "cell_type": "code",
      "source": [
        "#14. Reverse a List In-Place Without Using Built-In Reverse Functions\n",
        "def reverse_list(lst):\n",
        "    start, end = 0, len(lst) - 1\n",
        "    while start < end:\n",
        "        lst[start], lst[end] = lst[end], lst[start]\n",
        "        start += 1\n",
        "        end -= 1\n",
        "\n",
        "# Example usage\n",
        "lst = [1, 2, 3, 4, 5]\n",
        "reverse_list(lst)\n",
        "print(lst)\n"
      ],
      "metadata": {
        "colab": {
          "base_uri": "https://localhost:8080/"
        },
        "id": "LPxLuHCyrmOO",
        "outputId": "2dd949b0-6465-41a4-902d-9a9dfcf375c4"
      },
      "execution_count": null,
      "outputs": [
        {
          "output_type": "stream",
          "name": "stdout",
          "text": [
            "[5, 4, 3, 2, 1]\n"
          ]
        }
      ]
    },
    {
      "cell_type": "code",
      "source": [
        "#15. Find and Remove Duplicates From a List While Preserving the Original Order\n",
        "def remove_duplicates(lst):\n",
        "    seen = set()\n",
        "    result = []\n",
        "    for item in lst:\n",
        "        if item not in seen:\n",
        "            seen.add(item)\n",
        "            result.append(item)\n",
        "    return result\n",
        "\n",
        "# Example usage\n",
        "lst = [1, 2, 2, 3, 4, 4, 5]\n",
        "print(remove_duplicates(lst))\n"
      ],
      "metadata": {
        "colab": {
          "base_uri": "https://localhost:8080/"
        },
        "id": "dwTTAv-Rrv0Z",
        "outputId": "0b34842d-17f9-46dc-93fc-ea2725353af8"
      },
      "execution_count": null,
      "outputs": [
        {
          "output_type": "stream",
          "name": "stdout",
          "text": [
            "[1, 2, 3, 4, 5]\n"
          ]
        }
      ]
    },
    {
      "cell_type": "code",
      "source": [
        "#16.Check if a Given List is Sorted (Either in Ascending or Descending Order)\n",
        "def is_sorted(lst):\n",
        "    return lst == sorted(lst) or lst == sorted(lst, reverse=True)\n",
        "\n",
        "# Example usage\n",
        "lst = [1, 2, 3, 4, 5]\n",
        "print(is_sorted(lst))\n"
      ],
      "metadata": {
        "colab": {
          "base_uri": "https://localhost:8080/"
        },
        "id": "vUmn0nlRrzhq",
        "outputId": "14ab9dc2-1108-43b5-a22a-59c277b81f8d"
      },
      "execution_count": null,
      "outputs": [
        {
          "output_type": "stream",
          "name": "stdout",
          "text": [
            "True\n"
          ]
        }
      ]
    },
    {
      "cell_type": "code",
      "source": [
        "#17.Merge Two Sorted Lists Into a Single Sorted List\n",
        "def merge_sorted_lists(lst1, lst2):\n",
        "    return sorted(lst1 + lst2)\n",
        "\n",
        "# Example usage\n",
        "lst1 = [1, 3, 5]\n",
        "lst2 = [2, 4, 6]\n",
        "print(merge_sorted_lists(lst1, lst2))\n"
      ],
      "metadata": {
        "colab": {
          "base_uri": "https://localhost:8080/"
        },
        "id": "a-63IDIcr69n",
        "outputId": "854ee43f-f0b3-4f3c-b104-2b452718c21e"
      },
      "execution_count": null,
      "outputs": [
        {
          "output_type": "stream",
          "name": "stdout",
          "text": [
            "[1, 2, 3, 4, 5, 6]\n"
          ]
        }
      ]
    },
    {
      "cell_type": "code",
      "source": [
        "#18.Find the Intersection of Two Given Lists\n",
        "def list_intersection(lst1, lst2):\n",
        "    return list(set(lst1) & set(lst2))\n",
        "\n",
        "# Example usage\n",
        "lst1 = [1, 2, 3, 4]\n",
        "lst2 = [3, 4, 5, 6]\n",
        "print(list_intersection(lst1, lst2))\n"
      ],
      "metadata": {
        "colab": {
          "base_uri": "https://localhost:8080/"
        },
        "id": "4ieTEReir--a",
        "outputId": "79d78620-5db0-4add-f6af-3f65a713a084"
      },
      "execution_count": null,
      "outputs": [
        {
          "output_type": "stream",
          "name": "stdout",
          "text": [
            "[3, 4]\n"
          ]
        }
      ]
    },
    {
      "cell_type": "code",
      "source": [
        "#19.Find the Union of Two Lists Without Duplicates\n",
        "def list_union(lst1, lst2):\n",
        "    return list(set(lst1) | set(lst2))\n",
        "\n",
        "# Example usage\n",
        "lst1 = [1, 2, 3, 4]\n",
        "lst2 = [3, 4, 5, 6]\n",
        "print(list_union(lst1, lst2))\n"
      ],
      "metadata": {
        "colab": {
          "base_uri": "https://localhost:8080/"
        },
        "id": "lTFt0tjnsCVP",
        "outputId": "225af937-09f4-45b7-b69e-60e0732d79ba"
      },
      "execution_count": null,
      "outputs": [
        {
          "output_type": "stream",
          "name": "stdout",
          "text": [
            "[1, 2, 3, 4, 5, 6]\n"
          ]
        }
      ]
    },
    {
      "cell_type": "code",
      "source": [
        "#20.Shuffle a Given List Randomly Without Using Any Built-In Shuffle Functions\n",
        "import random\n",
        "\n",
        "def shuffle_list(lst):\n",
        "    for i in range(len(lst) - 1, 0, -1):\n",
        "        j = random.randint(0, i)\n",
        "        lst[i], lst[j] = lst[j], lst[i]\n",
        "\n",
        "# Example usage\n",
        "lst = [1, 2, 3, 4, 5]\n",
        "shuffle_list(lst)\n",
        "print(lst)\n"
      ],
      "metadata": {
        "colab": {
          "base_uri": "https://localhost:8080/"
        },
        "id": "7iij3MgIsDlr",
        "outputId": "9a44206d-a695-4ee1-a8f7-84aba5152d7c"
      },
      "execution_count": null,
      "outputs": [
        {
          "output_type": "stream",
          "name": "stdout",
          "text": [
            "[2, 3, 4, 1, 5]\n"
          ]
        }
      ]
    },
    {
      "cell_type": "code",
      "source": [
        "#21. Return a New Tuple Containing Elements Common to Both Input Tuples\n",
        "def tuple_intersection(t1, t2):\n",
        "    return tuple(set(t1) & set(t2))\n",
        "\n",
        "# Example usage\n",
        "t1 = (1, 2, 3, 4)\n",
        "t2 = (3, 4, 5, 6)\n",
        "print(tuple_intersection(t1, t2))\n"
      ],
      "metadata": {
        "colab": {
          "base_uri": "https://localhost:8080/"
        },
        "id": "5AAS5swHsFxr",
        "outputId": "cf293f21-6b71-43a5-fdfd-966ce6b8b0e1"
      },
      "execution_count": null,
      "outputs": [
        {
          "output_type": "stream",
          "name": "stdout",
          "text": [
            "(3, 4)\n"
          ]
        }
      ]
    },
    {
      "cell_type": "code",
      "source": [],
      "metadata": {
        "id": "pskqPZ4ptsmz"
      },
      "execution_count": null,
      "outputs": []
    },
    {
      "cell_type": "code",
      "source": [
        "#23.Concatenate Two Tuples\n",
        "def concatenate_tuples(t1, t2):\n",
        "    return t1 + t2\n",
        "\n",
        "# Example usage\n",
        "t1 = (1, 2, 3)\n",
        "t2 = (4, 5, 6)\n",
        "print(concatenate_tuples(t1, t2))\n"
      ],
      "metadata": {
        "colab": {
          "base_uri": "https://localhost:8080/"
        },
        "id": "_74nhpDBsIOR",
        "outputId": "a72eab48-fc01-4905-903e-b83e642adcf3"
      },
      "execution_count": null,
      "outputs": [
        {
          "output_type": "stream",
          "name": "stdout",
          "text": [
            "(1, 2, 3, 4, 5, 6)\n"
          ]
        }
      ]
    },
    {
      "cell_type": "code",
      "source": [],
      "metadata": {
        "id": "c6jh3MsKsITO"
      },
      "execution_count": null,
      "outputs": []
    },
    {
      "cell_type": "code",
      "source": [
        "#24. Develop a code that prompts the user to input two sets of strings. Then, print the elements that are present in the first set but not in the second set.\n",
        "# Define a function to demonstrate the code with examples\n",
        "def demo_set_difference(set1, set2):\n",
        "    # Calculate the difference between set1 and set2\n",
        "    difference = set1 - set2\n",
        "    return difference\n",
        "\n",
        "# Example 1\n",
        "set1_example1 = {'apple', 'banana', 'orange'}\n",
        "set2_example1 = {'banana', 'grape', 'orange'}\n",
        "print(\"Example 1:\")\n",
        "print(\"Set 1:\", set1_example1)\n",
        "print(\"Set 2:\", set2_example1)\n",
        "print(\"Elements in Set 1 but not in Set 2:\", demo_set_difference(set1_example1, set2_example1))\n",
        "print()\n",
        "\n",
        "\n"
      ],
      "metadata": {
        "id": "eDKzwq7It0Gm",
        "colab": {
          "base_uri": "https://localhost:8080/"
        },
        "outputId": "30ffcf55-981b-43e1-8eda-0389e140c381"
      },
      "execution_count": 1,
      "outputs": [
        {
          "output_type": "stream",
          "name": "stdout",
          "text": [
            "Example 1:\n",
            "Set 1: {'orange', 'apple', 'banana'}\n",
            "Set 2: {'orange', 'grape', 'banana'}\n",
            "Elements in Set 1 but not in Set 2: {'apple'}\n",
            "\n"
          ]
        }
      ]
    },
    {
      "cell_type": "code",
      "source": [
        "#25.Code to return a new tuple containing elements within a specified range of indices\n",
        "def slice_tuple(input_tuple, start_idx, end_idx):\n",
        "    return input_tuple[start_idx:end_idx]\n",
        "\n",
        "# Example\n",
        "input_tuple = (1, 2, 3, 4, 5)\n",
        "start_idx = 1\n",
        "end_idx = 4\n",
        "print(\"Original tuple:\", input_tuple)\n",
        "print(f\"Sliced tuple (indices {start_idx} to {end_idx}):\", slice_tuple(input_tuple, start_idx, end_idx))\n"
      ],
      "metadata": {
        "id": "mFfpsByit273",
        "colab": {
          "base_uri": "https://localhost:8080/"
        },
        "outputId": "665fd3fe-6483-4798-d56d-64622b247cb2"
      },
      "execution_count": 2,
      "outputs": [
        {
          "output_type": "stream",
          "name": "stdout",
          "text": [
            "Original tuple: (1, 2, 3, 4, 5)\n",
            "Sliced tuple (indices 1 to 4): (2, 3, 4)\n"
          ]
        }
      ]
    },
    {
      "cell_type": "code",
      "source": [
        "#26.Code to print the union of two sets of characters\n",
        "def union_of_sets(set1, set2):\n",
        "    return set1 | set2\n",
        "\n",
        "# Example\n",
        "set1 = {'a', 'b', 'c'}\n",
        "set2 = {'b', 'c', 'd'}\n",
        "print(\"Set 1:\", set1)\n",
        "print(\"Set 2:\", set2)\n",
        "print(\"Union of the two sets:\", union_of_sets(set1, set2))"
      ],
      "metadata": {
        "id": "li81wd22t4dp",
        "colab": {
          "base_uri": "https://localhost:8080/"
        },
        "outputId": "cff572a5-1938-4f97-b76b-09955bc4ab93"
      },
      "execution_count": 3,
      "outputs": [
        {
          "output_type": "stream",
          "name": "stdout",
          "text": [
            "Set 1: {'b', 'a', 'c'}\n",
            "Set 2: {'b', 'd', 'c'}\n",
            "Union of the two sets: {'d', 'c', 'b', 'a'}\n"
          ]
        }
      ]
    },
    {
      "cell_type": "code",
      "source": [
        "#27.Code to return the maximum and minimum values from a tuple using tuple unpacking\n",
        "def find_min_max(input_tuple):\n",
        "    return min(input_tuple), max(input_tuple)\n",
        "\n",
        "# Example\n",
        "input_tuple = (10, 3, 45, 2, 99)\n",
        "min_val, max_val = find_min_max(input_tuple)\n",
        "print(\"Original tuple:\", input_tuple)\n",
        "print(f\"Minimum value: {min_val}, Maximum value: {max_val}\")"
      ],
      "metadata": {
        "id": "wqpqWCXlt5tJ",
        "colab": {
          "base_uri": "https://localhost:8080/"
        },
        "outputId": "130d239a-3e78-4c76-fc3b-5b2810ffef70"
      },
      "execution_count": 4,
      "outputs": [
        {
          "output_type": "stream",
          "name": "stdout",
          "text": [
            "Original tuple: (10, 3, 45, 2, 99)\n",
            "Minimum value: 2, Maximum value: 99\n"
          ]
        }
      ]
    },
    {
      "cell_type": "code",
      "source": [
        "#28.Code to print the union, intersection, and difference of two sets of integers\n",
        "def set_operations(set1, set2):\n",
        "    return {\n",
        "        'union': set1 | set2,\n",
        "        'intersection': set1 & set2,\n",
        "        'difference': set1 - set2\n",
        "    }\n",
        "\n",
        "# Example\n",
        "set1 = {1, 2, 3, 4}\n",
        "set2 = {3, 4, 5, 6}\n",
        "results = set_operations(set1, set2)\n",
        "print(\"Set 1:\", set1)\n",
        "print(\"Set 2:\", set2)\n",
        "print(\"Union:\", results['union'])\n",
        "print(\"Intersection:\", results['intersection'])\n",
        "print(\"Difference:\", results['difference'])"
      ],
      "metadata": {
        "id": "Dah4tmAjt66W",
        "colab": {
          "base_uri": "https://localhost:8080/"
        },
        "outputId": "d5dd8eb1-7d25-47b7-ffe6-fddac9204d68"
      },
      "execution_count": 5,
      "outputs": [
        {
          "output_type": "stream",
          "name": "stdout",
          "text": [
            "Set 1: {1, 2, 3, 4}\n",
            "Set 2: {3, 4, 5, 6}\n",
            "Union: {1, 2, 3, 4, 5, 6}\n",
            "Intersection: {3, 4}\n",
            "Difference: {1, 2}\n"
          ]
        }
      ]
    },
    {
      "cell_type": "code",
      "source": [
        "#29.Code to return the count of occurrences of an element in a tuple\n",
        "def count_occurrences(input_tuple, element):\n",
        "    return input_tuple.count(element)\n",
        "\n",
        "# Example\n",
        "input_tuple = (1, 2, 2, 3, 2, 4)\n",
        "element = 2\n",
        "print(\"Original tuple:\", input_tuple)\n",
        "print(f\"Count of element {element}:\", count_occurrences(input_tuple, element))\n"
      ],
      "metadata": {
        "id": "5bOh7qact8jN",
        "colab": {
          "base_uri": "https://localhost:8080/"
        },
        "outputId": "3b56101b-a595-4c2a-eaf8-ecfdb62c70cd"
      },
      "execution_count": 6,
      "outputs": [
        {
          "output_type": "stream",
          "name": "stdout",
          "text": [
            "Original tuple: (1, 2, 2, 3, 2, 4)\n",
            "Count of element 2: 3\n"
          ]
        }
      ]
    },
    {
      "cell_type": "code",
      "source": [
        "#30.Code to print the symmetric difference of two sets of strings\n",
        "def symmetric_difference(set1, set2):\n",
        "    return set1 ^ set2\n",
        "\n",
        "# Example\n",
        "set1 = {'a', 'b', 'c'}\n",
        "set2 = {'b', 'c', 'd'}\n",
        "print(\"Set 1:\", set1)\n",
        "print(\"Set 2:\", set2)\n",
        "print(\"Symmetric difference:\", symmetric_difference(set1, set2))\n"
      ],
      "metadata": {
        "id": "ctFH1dlkt-J1",
        "colab": {
          "base_uri": "https://localhost:8080/"
        },
        "outputId": "6dd21a0c-5882-4f40-e5d7-9d706cbfa97a"
      },
      "execution_count": 7,
      "outputs": [
        {
          "output_type": "stream",
          "name": "stdout",
          "text": [
            "Set 1: {'b', 'a', 'c'}\n",
            "Set 2: {'b', 'd', 'c'}\n",
            "Symmetric difference: {'d', 'a'}\n"
          ]
        }
      ]
    },
    {
      "cell_type": "code",
      "source": [
        "#31.Code to return a dictionary with word frequencies from a list of words\n",
        "def word_frequency(words):\n",
        "    freq = {}\n",
        "    for word in words:\n",
        "        freq[word] = freq.get(word, 0) + 1\n",
        "    return freq\n",
        "\n",
        "# Example\n",
        "words_list = ['apple', 'banana', 'apple', 'orange', 'banana', 'banana']\n",
        "print(\"Word list:\", words_list)\n",
        "print(\"Word frequency dictionary:\", word_frequency(words_list))\n"
      ],
      "metadata": {
        "id": "0zoolCIxt_hr",
        "colab": {
          "base_uri": "https://localhost:8080/"
        },
        "outputId": "7b1b98f5-1604-4ccf-d83f-7cf9dd929d09"
      },
      "execution_count": 8,
      "outputs": [
        {
          "output_type": "stream",
          "name": "stdout",
          "text": [
            "Word list: ['apple', 'banana', 'apple', 'orange', 'banana', 'banana']\n",
            "Word frequency dictionary: {'apple': 2, 'banana': 3, 'orange': 1}\n"
          ]
        }
      ]
    },
    {
      "cell_type": "code",
      "source": [
        "#32.Code to merge two dictionaries and sum values for common keys\n",
        "def merge_dicts(dict1, dict2):\n",
        "    merged = dict1.copy()\n",
        "    for key, value in dict2.items():\n",
        "        if key in merged:\n",
        "            merged[key] += value\n",
        "        else:\n",
        "            merged[key] = value\n",
        "    return merged\n",
        "\n",
        "# Example\n",
        "dict1 = {'a': 1, 'b': 2}\n",
        "dict2 = {'b': 3, 'c': 4}\n",
        "print(\"Dictionary 1:\", dict1)\n",
        "print(\"Dictionary 2:\", dict2)\n",
        "print(\"Merged dictionary:\", merge_dicts(dict1, dict2))\n",
        "\n"
      ],
      "metadata": {
        "id": "wKvc2ItauAnu",
        "colab": {
          "base_uri": "https://localhost:8080/"
        },
        "outputId": "b4ade707-ed40-4915-d71c-0e6dbd699515"
      },
      "execution_count": 9,
      "outputs": [
        {
          "output_type": "stream",
          "name": "stdout",
          "text": [
            "Dictionary 1: {'a': 1, 'b': 2}\n",
            "Dictionary 2: {'b': 3, 'c': 4}\n",
            "Merged dictionary: {'a': 1, 'b': 5, 'c': 4}\n"
          ]
        }
      ]
    },
    {
      "cell_type": "code",
      "source": [
        "#33.Code to access a value in a nested dictionary using a list of keys\n",
        "def get_nested_value(d, keys):\n",
        "    for key in keys:\n",
        "        if isinstance(d, dict) and key in d:\n",
        "            d = d[key]\n",
        "        else:\n",
        "            return None\n",
        "    return d\n",
        "\n",
        "# Example\n",
        "nested_dict = {'a': {'b': {'c': 42}}}\n",
        "keys_list = ['a', 'b', 'c']\n",
        "print(\"Nested dictionary:\", nested_dict)\n",
        "print(\"Value for keys\", keys_list, \":\", get_nested_value(nested_dict, keys_list))\n"
      ],
      "metadata": {
        "id": "A02RUjgOuDK5",
        "colab": {
          "base_uri": "https://localhost:8080/"
        },
        "outputId": "9f5e2665-47ca-4b25-c5ff-259bd9353d29"
      },
      "execution_count": 10,
      "outputs": [
        {
          "output_type": "stream",
          "name": "stdout",
          "text": [
            "Nested dictionary: {'a': {'b': {'c': 42}}}\n",
            "Value for keys ['a', 'b', 'c'] : 42\n"
          ]
        }
      ]
    },
    {
      "cell_type": "code",
      "source": [
        "#34.Code to sort a dictionary based on values\n",
        "def sort_dict_by_values(d, reverse=False):\n",
        "    return dict(sorted(d.items(), key=lambda item: item[1], reverse=reverse))\n",
        "\n",
        "# Example\n",
        "dict_to_sort = {'a': 3, 'b': 1, 'c': 2}\n",
        "print(\"Original dictionary:\", dict_to_sort)\n",
        "print(\"Sorted by values (ascending):\", sort_dict_by_values(dict_to_sort))\n",
        "print(\"Sorted by values (descending):\", sort_dict_by_values(dict_to_sort, reverse=True))\n"
      ],
      "metadata": {
        "id": "CEpfsszluFHg",
        "colab": {
          "base_uri": "https://localhost:8080/"
        },
        "outputId": "b6eef15a-72b0-4bde-ec34-158a9626e622"
      },
      "execution_count": 11,
      "outputs": [
        {
          "output_type": "stream",
          "name": "stdout",
          "text": [
            "Original dictionary: {'a': 3, 'b': 1, 'c': 2}\n",
            "Sorted by values (ascending): {'b': 1, 'c': 2, 'a': 3}\n",
            "Sorted by values (descending): {'a': 3, 'c': 2, 'b': 1}\n"
          ]
        }
      ]
    },
    {
      "cell_type": "code",
      "source": [
        "##35.Write a code that inverts a dictionary by swapping keys and values. Ensure that the inverted dictionary correctly handles cases where multiple keys have the same value by storing the keys as a list in the inverted dictionary.\n",
        "def invert_dict(input_dict):\n",
        "    inverted_dict = {}\n",
        "    for key, value in input_dict.items():\n",
        "        if value in inverted_dict:\n",
        "            inverted_dict[value].append(key)  # Append key to the list if value already exists\n",
        "        else:\n",
        "            inverted_dict[value] = [key]  # Create a new list with the key if value does not exist\n",
        "    return inverted_dict\n",
        "\n",
        "# Example\n",
        "input_dict = {'a': 1, 'b': 2, 'c': 1, 'd': 3}\n",
        "inverted = invert_dict(input_dict)\n",
        "print(\"Original dictionary:\", input_dict)\n",
        "print(\"Inverted dictionary:\", inverted)\n"
      ],
      "metadata": {
        "id": "iuiOBMTsuGOT",
        "colab": {
          "base_uri": "https://localhost:8080/"
        },
        "outputId": "b28d0af7-d014-44d7-ebb8-9a465edd1df1"
      },
      "execution_count": 12,
      "outputs": [
        {
          "output_type": "stream",
          "name": "stdout",
          "text": [
            "Original dictionary: {'a': 1, 'b': 2, 'c': 1, 'd': 3}\n",
            "Inverted dictionary: {1: ['a', 'c'], 2: ['b'], 3: ['d']}\n"
          ]
        }
      ]
    }
  ]
}